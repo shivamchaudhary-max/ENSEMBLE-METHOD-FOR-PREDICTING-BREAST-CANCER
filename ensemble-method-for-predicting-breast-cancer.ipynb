{
 "cells": [
  {
   "cell_type": "code",
   "execution_count": 1,
   "id": "a11d5ea0",
   "metadata": {
    "execution": {
     "iopub.execute_input": "2022-01-21T12:06:17.249398Z",
     "iopub.status.busy": "2022-01-21T12:06:17.247608Z",
     "iopub.status.idle": "2022-01-21T12:06:17.258102Z",
     "shell.execute_reply": "2022-01-21T12:06:17.258644Z",
     "shell.execute_reply.started": "2022-01-21T12:02:51.119555Z"
    },
    "papermill": {
     "duration": 0.027081,
     "end_time": "2022-01-21T12:06:17.258960",
     "exception": false,
     "start_time": "2022-01-21T12:06:17.231879",
     "status": "completed"
    },
    "tags": []
   },
   "outputs": [],
   "source": [
    "import numpy as np\n",
    "import pandas as pd"
   ]
  },
  {
   "cell_type": "code",
   "execution_count": 2,
   "id": "b1fe9d8c",
   "metadata": {
    "execution": {
     "iopub.execute_input": "2022-01-21T12:06:17.283587Z",
     "iopub.status.busy": "2022-01-21T12:06:17.282886Z",
     "iopub.status.idle": "2022-01-21T12:06:17.302850Z",
     "shell.execute_reply": "2022-01-21T12:06:17.303383Z",
     "shell.execute_reply.started": "2022-01-21T12:03:25.693731Z"
    },
    "papermill": {
     "duration": 0.033444,
     "end_time": "2022-01-21T12:06:17.303565",
     "exception": false,
     "start_time": "2022-01-21T12:06:17.270121",
     "status": "completed"
    },
    "tags": []
   },
   "outputs": [],
   "source": [
    "bc=pd.read_csv('../input/breast-cancer-dataset/breast-cancer-wisconsin.csv')"
   ]
  },
  {
   "cell_type": "code",
   "execution_count": 3,
   "id": "cd95afac",
   "metadata": {
    "execution": {
     "iopub.execute_input": "2022-01-21T12:06:17.327345Z",
     "iopub.status.busy": "2022-01-21T12:06:17.326646Z",
     "iopub.status.idle": "2022-01-21T12:06:17.350621Z",
     "shell.execute_reply": "2022-01-21T12:06:17.349953Z",
     "shell.execute_reply.started": "2022-01-21T12:03:38.938151Z"
    },
    "papermill": {
     "duration": 0.037276,
     "end_time": "2022-01-21T12:06:17.350779",
     "exception": false,
     "start_time": "2022-01-21T12:06:17.313503",
     "status": "completed"
    },
    "tags": []
   },
   "outputs": [
    {
     "data": {
      "text/html": [
       "<div>\n",
       "<style scoped>\n",
       "    .dataframe tbody tr th:only-of-type {\n",
       "        vertical-align: middle;\n",
       "    }\n",
       "\n",
       "    .dataframe tbody tr th {\n",
       "        vertical-align: top;\n",
       "    }\n",
       "\n",
       "    .dataframe thead th {\n",
       "        text-align: right;\n",
       "    }\n",
       "</style>\n",
       "<table border=\"1\" class=\"dataframe\">\n",
       "  <thead>\n",
       "    <tr style=\"text-align: right;\">\n",
       "      <th></th>\n",
       "      <th>sample_code</th>\n",
       "      <th>clump_thickness</th>\n",
       "      <th>cell_size</th>\n",
       "      <th>cell_shape</th>\n",
       "      <th>marg_adhes</th>\n",
       "      <th>epi_cell_size</th>\n",
       "      <th>bare_nuc</th>\n",
       "      <th>bland_chr</th>\n",
       "      <th>normal_nuc</th>\n",
       "      <th>motoses</th>\n",
       "      <th>class</th>\n",
       "    </tr>\n",
       "  </thead>\n",
       "  <tbody>\n",
       "    <tr>\n",
       "      <th>0</th>\n",
       "      <td>1002945</td>\n",
       "      <td>5</td>\n",
       "      <td>4</td>\n",
       "      <td>4</td>\n",
       "      <td>5</td>\n",
       "      <td>7</td>\n",
       "      <td>10</td>\n",
       "      <td>3</td>\n",
       "      <td>2</td>\n",
       "      <td>1</td>\n",
       "      <td>2</td>\n",
       "    </tr>\n",
       "    <tr>\n",
       "      <th>1</th>\n",
       "      <td>1015425</td>\n",
       "      <td>3</td>\n",
       "      <td>1</td>\n",
       "      <td>1</td>\n",
       "      <td>1</td>\n",
       "      <td>2</td>\n",
       "      <td>2</td>\n",
       "      <td>3</td>\n",
       "      <td>1</td>\n",
       "      <td>1</td>\n",
       "      <td>2</td>\n",
       "    </tr>\n",
       "    <tr>\n",
       "      <th>2</th>\n",
       "      <td>1016277</td>\n",
       "      <td>6</td>\n",
       "      <td>8</td>\n",
       "      <td>8</td>\n",
       "      <td>1</td>\n",
       "      <td>3</td>\n",
       "      <td>4</td>\n",
       "      <td>3</td>\n",
       "      <td>7</td>\n",
       "      <td>1</td>\n",
       "      <td>2</td>\n",
       "    </tr>\n",
       "    <tr>\n",
       "      <th>3</th>\n",
       "      <td>1017023</td>\n",
       "      <td>4</td>\n",
       "      <td>1</td>\n",
       "      <td>1</td>\n",
       "      <td>3</td>\n",
       "      <td>2</td>\n",
       "      <td>1</td>\n",
       "      <td>3</td>\n",
       "      <td>1</td>\n",
       "      <td>1</td>\n",
       "      <td>2</td>\n",
       "    </tr>\n",
       "    <tr>\n",
       "      <th>4</th>\n",
       "      <td>1017122</td>\n",
       "      <td>8</td>\n",
       "      <td>10</td>\n",
       "      <td>10</td>\n",
       "      <td>8</td>\n",
       "      <td>7</td>\n",
       "      <td>10</td>\n",
       "      <td>9</td>\n",
       "      <td>7</td>\n",
       "      <td>1</td>\n",
       "      <td>4</td>\n",
       "    </tr>\n",
       "  </tbody>\n",
       "</table>\n",
       "</div>"
      ],
      "text/plain": [
       "   sample_code  clump_thickness  cell_size  cell_shape  marg_adhes  \\\n",
       "0      1002945                5          4           4           5   \n",
       "1      1015425                3          1           1           1   \n",
       "2      1016277                6          8           8           1   \n",
       "3      1017023                4          1           1           3   \n",
       "4      1017122                8         10          10           8   \n",
       "\n",
       "   epi_cell_size bare_nuc  bland_chr  normal_nuc  motoses  class  \n",
       "0              7       10          3           2        1      2  \n",
       "1              2        2          3           1        1      2  \n",
       "2              3        4          3           7        1      2  \n",
       "3              2        1          3           1        1      2  \n",
       "4              7       10          9           7        1      4  "
      ]
     },
     "execution_count": 3,
     "metadata": {},
     "output_type": "execute_result"
    }
   ],
   "source": [
    "bc.head()"
   ]
  },
  {
   "cell_type": "code",
   "execution_count": 4,
   "id": "cb5fa82b",
   "metadata": {
    "execution": {
     "iopub.execute_input": "2022-01-21T12:06:17.376135Z",
     "iopub.status.busy": "2022-01-21T12:06:17.375445Z",
     "iopub.status.idle": "2022-01-21T12:06:17.383890Z",
     "shell.execute_reply": "2022-01-21T12:06:17.383290Z",
     "shell.execute_reply.started": "2022-01-21T12:03:54.428470Z"
    },
    "papermill": {
     "duration": 0.0223,
     "end_time": "2022-01-21T12:06:17.384038",
     "exception": false,
     "start_time": "2022-01-21T12:06:17.361738",
     "status": "completed"
    },
    "tags": []
   },
   "outputs": [
    {
     "data": {
      "text/plain": [
       "sample_code        0\n",
       "clump_thickness    0\n",
       "cell_size          0\n",
       "cell_shape         0\n",
       "marg_adhes         0\n",
       "epi_cell_size      0\n",
       "bare_nuc           0\n",
       "bland_chr          0\n",
       "normal_nuc         0\n",
       "motoses            0\n",
       "class              0\n",
       "dtype: int64"
      ]
     },
     "execution_count": 4,
     "metadata": {},
     "output_type": "execute_result"
    }
   ],
   "source": [
    "bc.isnull().sum()"
   ]
  },
  {
   "cell_type": "code",
   "execution_count": 5,
   "id": "bb81b475",
   "metadata": {
    "execution": {
     "iopub.execute_input": "2022-01-21T12:06:17.408984Z",
     "iopub.status.busy": "2022-01-21T12:06:17.408363Z",
     "iopub.status.idle": "2022-01-21T12:06:17.420019Z",
     "shell.execute_reply": "2022-01-21T12:06:17.419475Z",
     "shell.execute_reply.started": "2022-01-21T12:04:09.170522Z"
    },
    "papermill": {
     "duration": 0.025469,
     "end_time": "2022-01-21T12:06:17.420164",
     "exception": false,
     "start_time": "2022-01-21T12:06:17.394695",
     "status": "completed"
    },
    "tags": []
   },
   "outputs": [],
   "source": [
    "bc=bc.drop(columns=['bare_nuc'])"
   ]
  },
  {
   "cell_type": "code",
   "execution_count": 6,
   "id": "e75db996",
   "metadata": {
    "execution": {
     "iopub.execute_input": "2022-01-21T12:06:17.448052Z",
     "iopub.status.busy": "2022-01-21T12:06:17.447392Z",
     "iopub.status.idle": "2022-01-21T12:06:17.450017Z",
     "shell.execute_reply": "2022-01-21T12:06:17.449527Z",
     "shell.execute_reply.started": "2022-01-21T12:04:19.087359Z"
    },
    "papermill": {
     "duration": 0.019263,
     "end_time": "2022-01-21T12:06:17.450159",
     "exception": false,
     "start_time": "2022-01-21T12:06:17.430896",
     "status": "completed"
    },
    "tags": []
   },
   "outputs": [],
   "source": [
    "x3=bc.iloc[:,0:9]\n",
    "y3=bc.iloc[:,[9]]\n",
    "\n"
   ]
  },
  {
   "cell_type": "code",
   "execution_count": 7,
   "id": "67e240f5",
   "metadata": {
    "execution": {
     "iopub.execute_input": "2022-01-21T12:06:17.476734Z",
     "iopub.status.busy": "2022-01-21T12:06:17.474512Z",
     "iopub.status.idle": "2022-01-21T12:06:18.771433Z",
     "shell.execute_reply": "2022-01-21T12:06:18.770828Z",
     "shell.execute_reply.started": "2022-01-21T12:04:30.001958Z"
    },
    "papermill": {
     "duration": 1.310617,
     "end_time": "2022-01-21T12:06:18.771579",
     "exception": false,
     "start_time": "2022-01-21T12:06:17.460962",
     "status": "completed"
    },
    "tags": []
   },
   "outputs": [],
   "source": [
    "import pandas as pd\n",
    "\n",
    "from sklearn import model_selection\n",
    "from sklearn.ensemble import BaggingClassifier\n",
    "from sklearn.tree import DecisionTreeClassifier\n"
   ]
  },
  {
   "cell_type": "code",
   "execution_count": 8,
   "id": "e59fc82f",
   "metadata": {
    "execution": {
     "iopub.execute_input": "2022-01-21T12:06:18.802359Z",
     "iopub.status.busy": "2022-01-21T12:06:18.799683Z",
     "iopub.status.idle": "2022-01-21T12:06:28.119141Z",
     "shell.execute_reply": "2022-01-21T12:06:28.118516Z",
     "shell.execute_reply.started": "2022-01-21T12:04:42.888019Z"
    },
    "papermill": {
     "duration": 9.336832,
     "end_time": "2022-01-21T12:06:28.119321",
     "exception": false,
     "start_time": "2022-01-21T12:06:18.782489",
     "status": "completed"
    },
    "tags": []
   },
   "outputs": [
    {
     "name": "stderr",
     "output_type": "stream",
     "text": [
      "/opt/conda/lib/python3.7/site-packages/sklearn/utils/validation.py:72: DataConversionWarning: A column-vector y was passed when a 1d array was expected. Please change the shape of y to (n_samples, ), for example using ravel().\n",
      "  return f(**kwargs)\n",
      "/opt/conda/lib/python3.7/site-packages/sklearn/utils/validation.py:72: DataConversionWarning: A column-vector y was passed when a 1d array was expected. Please change the shape of y to (n_samples, ), for example using ravel().\n",
      "  return f(**kwargs)\n",
      "/opt/conda/lib/python3.7/site-packages/sklearn/utils/validation.py:72: DataConversionWarning: A column-vector y was passed when a 1d array was expected. Please change the shape of y to (n_samples, ), for example using ravel().\n",
      "  return f(**kwargs)\n",
      "/opt/conda/lib/python3.7/site-packages/sklearn/utils/validation.py:72: DataConversionWarning: A column-vector y was passed when a 1d array was expected. Please change the shape of y to (n_samples, ), for example using ravel().\n",
      "  return f(**kwargs)\n",
      "/opt/conda/lib/python3.7/site-packages/sklearn/utils/validation.py:72: DataConversionWarning: A column-vector y was passed when a 1d array was expected. Please change the shape of y to (n_samples, ), for example using ravel().\n",
      "  return f(**kwargs)\n",
      "/opt/conda/lib/python3.7/site-packages/sklearn/utils/validation.py:72: DataConversionWarning: A column-vector y was passed when a 1d array was expected. Please change the shape of y to (n_samples, ), for example using ravel().\n",
      "  return f(**kwargs)\n",
      "/opt/conda/lib/python3.7/site-packages/sklearn/utils/validation.py:72: DataConversionWarning: A column-vector y was passed when a 1d array was expected. Please change the shape of y to (n_samples, ), for example using ravel().\n",
      "  return f(**kwargs)\n",
      "/opt/conda/lib/python3.7/site-packages/sklearn/utils/validation.py:72: DataConversionWarning: A column-vector y was passed when a 1d array was expected. Please change the shape of y to (n_samples, ), for example using ravel().\n",
      "  return f(**kwargs)\n",
      "/opt/conda/lib/python3.7/site-packages/sklearn/utils/validation.py:72: DataConversionWarning: A column-vector y was passed when a 1d array was expected. Please change the shape of y to (n_samples, ), for example using ravel().\n",
      "  return f(**kwargs)\n",
      "/opt/conda/lib/python3.7/site-packages/sklearn/utils/validation.py:72: DataConversionWarning: A column-vector y was passed when a 1d array was expected. Please change the shape of y to (n_samples, ), for example using ravel().\n",
      "  return f(**kwargs)\n",
      "/opt/conda/lib/python3.7/site-packages/sklearn/utils/validation.py:72: DataConversionWarning: A column-vector y was passed when a 1d array was expected. Please change the shape of y to (n_samples, ), for example using ravel().\n",
      "  return f(**kwargs)\n",
      "/opt/conda/lib/python3.7/site-packages/sklearn/utils/validation.py:72: DataConversionWarning: A column-vector y was passed when a 1d array was expected. Please change the shape of y to (n_samples, ), for example using ravel().\n",
      "  return f(**kwargs)\n",
      "/opt/conda/lib/python3.7/site-packages/sklearn/utils/validation.py:72: DataConversionWarning: A column-vector y was passed when a 1d array was expected. Please change the shape of y to (n_samples, ), for example using ravel().\n",
      "  return f(**kwargs)\n",
      "/opt/conda/lib/python3.7/site-packages/sklearn/utils/validation.py:72: DataConversionWarning: A column-vector y was passed when a 1d array was expected. Please change the shape of y to (n_samples, ), for example using ravel().\n",
      "  return f(**kwargs)\n",
      "/opt/conda/lib/python3.7/site-packages/sklearn/utils/validation.py:72: DataConversionWarning: A column-vector y was passed when a 1d array was expected. Please change the shape of y to (n_samples, ), for example using ravel().\n",
      "  return f(**kwargs)\n"
     ]
    },
    {
     "name": "stdout",
     "output_type": "stream",
     "text": [
      "0.9444033302497686\n"
     ]
    }
   ],
   "source": [
    "kfold = model_selection.KFold(n_splits=15)\n",
    "\n",
    "cart = DecisionTreeClassifier()\n",
    "num_trees = 200\n",
    "model = BaggingClassifier(base_estimator=cart, n_estimators=num_trees, random_state=0)\n",
    "results = model_selection.cross_val_score(model, x3, y3, cv=kfold)\n",
    "\n",
    "print(results.mean())"
   ]
  },
  {
   "cell_type": "code",
   "execution_count": 9,
   "id": "43746a0e",
   "metadata": {
    "execution": {
     "iopub.execute_input": "2022-01-21T12:06:28.164671Z",
     "iopub.status.busy": "2022-01-21T12:06:28.160783Z",
     "iopub.status.idle": "2022-01-21T12:06:29.396512Z",
     "shell.execute_reply": "2022-01-21T12:06:29.397002Z",
     "shell.execute_reply.started": "2022-01-21T12:05:10.116519Z"
    },
    "papermill": {
     "duration": 1.261644,
     "end_time": "2022-01-21T12:06:29.397200",
     "exception": false,
     "start_time": "2022-01-21T12:06:28.135556",
     "status": "completed"
    },
    "tags": []
   },
   "outputs": [
    {
     "name": "stderr",
     "output_type": "stream",
     "text": [
      "/opt/conda/lib/python3.7/site-packages/sklearn/utils/validation.py:72: DataConversionWarning: A column-vector y was passed when a 1d array was expected. Please change the shape of y to (n_samples, ), for example using ravel().\n",
      "  return f(**kwargs)\n"
     ]
    },
    {
     "data": {
      "text/plain": [
       "array([4, 2, 4, 4, 2, 2, 4, 2, 2, 2, 2, 2, 2, 2, 2, 2, 2, 2, 4, 4, 2, 4,\n",
       "       4, 4, 2, 4, 4, 4, 2, 2, 4, 2, 2, 2, 2, 2, 2, 4, 2, 2, 2, 2, 2, 4,\n",
       "       4, 4, 2, 4, 2, 4, 2, 2, 2, 4, 2, 2, 2, 2, 2, 4, 4, 2, 4, 4, 2, 4,\n",
       "       4, 2, 4, 4, 2, 2, 4, 2, 2, 2, 4, 2, 4, 2, 4, 2, 2, 2, 2, 2, 4, 2,\n",
       "       2, 4, 4, 4, 2, 4, 2, 4, 2, 2, 2, 2, 4, 4, 4, 4, 2, 2, 4, 2, 2, 2,\n",
       "       4, 4, 2, 2, 2, 2, 4, 2, 2, 4, 2, 2, 4, 4, 4, 2, 2, 4, 2, 2, 4, 4,\n",
       "       2, 4, 2, 2, 2, 2, 4, 4, 4, 2, 4, 4, 2, 2, 2, 4, 2, 2, 2, 4, 4, 4,\n",
       "       2, 2, 2, 2, 4, 4, 4, 2, 2, 2, 4, 2, 2, 2, 4, 2, 2, 2, 2, 4, 4])"
      ]
     },
     "execution_count": 9,
     "metadata": {},
     "output_type": "execute_result"
    }
   ],
   "source": [
    "from sklearn.model_selection import train_test_split\n",
    "x3_train,x3_test,y3_train,y3_test=train_test_split(x3,y3,test_size=0.25,random_state=0)\n",
    "\n",
    "bag_clf = BaggingClassifier(DecisionTreeClassifier(random_state=42), n_estimators=500,\n",
    "    max_samples=100, bootstrap=True, random_state=42)\n",
    "bag_clf.fit(x3_train, y3_train)\n",
    "\n",
    "y_pred = bag_clf.predict(x3_test)\n",
    "y_pred"
   ]
  },
  {
   "cell_type": "code",
   "execution_count": 10,
   "id": "a56d69ea",
   "metadata": {
    "execution": {
     "iopub.execute_input": "2022-01-21T12:06:29.444361Z",
     "iopub.status.busy": "2022-01-21T12:06:29.441588Z",
     "iopub.status.idle": "2022-01-21T12:06:47.802463Z",
     "shell.execute_reply": "2022-01-21T12:06:47.803202Z",
     "shell.execute_reply.started": "2022-01-21T12:05:25.469409Z"
    },
    "papermill": {
     "duration": 18.389969,
     "end_time": "2022-01-21T12:06:47.803460",
     "exception": false,
     "start_time": "2022-01-21T12:06:29.413491",
     "status": "completed"
    },
    "tags": []
   },
   "outputs": [
    {
     "name": "stderr",
     "output_type": "stream",
     "text": [
      "/opt/conda/lib/python3.7/site-packages/sklearn/utils/validation.py:72: DataConversionWarning: A column-vector y was passed when a 1d array was expected. Please change the shape of y to (n_samples, ), for example using ravel().\n",
      "  return f(**kwargs)\n",
      "/opt/conda/lib/python3.7/site-packages/sklearn/utils/validation.py:72: DataConversionWarning: A column-vector y was passed when a 1d array was expected. Please change the shape of y to (n_samples, ), for example using ravel().\n",
      "  return f(**kwargs)\n",
      "/opt/conda/lib/python3.7/site-packages/sklearn/utils/validation.py:72: DataConversionWarning: A column-vector y was passed when a 1d array was expected. Please change the shape of y to (n_samples, ), for example using ravel().\n",
      "  return f(**kwargs)\n",
      "/opt/conda/lib/python3.7/site-packages/sklearn/utils/validation.py:72: DataConversionWarning: A column-vector y was passed when a 1d array was expected. Please change the shape of y to (n_samples, ), for example using ravel().\n",
      "  return f(**kwargs)\n",
      "/opt/conda/lib/python3.7/site-packages/sklearn/utils/validation.py:72: DataConversionWarning: A column-vector y was passed when a 1d array was expected. Please change the shape of y to (n_samples, ), for example using ravel().\n",
      "  return f(**kwargs)\n",
      "/opt/conda/lib/python3.7/site-packages/sklearn/utils/validation.py:72: DataConversionWarning: A column-vector y was passed when a 1d array was expected. Please change the shape of y to (n_samples, ), for example using ravel().\n",
      "  return f(**kwargs)\n",
      "/opt/conda/lib/python3.7/site-packages/sklearn/utils/validation.py:72: DataConversionWarning: A column-vector y was passed when a 1d array was expected. Please change the shape of y to (n_samples, ), for example using ravel().\n",
      "  return f(**kwargs)\n",
      "/opt/conda/lib/python3.7/site-packages/sklearn/utils/validation.py:72: DataConversionWarning: A column-vector y was passed when a 1d array was expected. Please change the shape of y to (n_samples, ), for example using ravel().\n",
      "  return f(**kwargs)\n",
      "/opt/conda/lib/python3.7/site-packages/sklearn/utils/validation.py:72: DataConversionWarning: A column-vector y was passed when a 1d array was expected. Please change the shape of y to (n_samples, ), for example using ravel().\n",
      "  return f(**kwargs)\n",
      "/opt/conda/lib/python3.7/site-packages/sklearn/utils/validation.py:72: DataConversionWarning: A column-vector y was passed when a 1d array was expected. Please change the shape of y to (n_samples, ), for example using ravel().\n",
      "  return f(**kwargs)\n",
      "/opt/conda/lib/python3.7/site-packages/sklearn/utils/validation.py:72: DataConversionWarning: A column-vector y was passed when a 1d array was expected. Please change the shape of y to (n_samples, ), for example using ravel().\n",
      "  return f(**kwargs)\n",
      "/opt/conda/lib/python3.7/site-packages/sklearn/utils/validation.py:72: DataConversionWarning: A column-vector y was passed when a 1d array was expected. Please change the shape of y to (n_samples, ), for example using ravel().\n",
      "  return f(**kwargs)\n",
      "/opt/conda/lib/python3.7/site-packages/sklearn/utils/validation.py:72: DataConversionWarning: A column-vector y was passed when a 1d array was expected. Please change the shape of y to (n_samples, ), for example using ravel().\n",
      "  return f(**kwargs)\n",
      "/opt/conda/lib/python3.7/site-packages/sklearn/utils/validation.py:72: DataConversionWarning: A column-vector y was passed when a 1d array was expected. Please change the shape of y to (n_samples, ), for example using ravel().\n",
      "  return f(**kwargs)\n",
      "/opt/conda/lib/python3.7/site-packages/sklearn/utils/validation.py:72: DataConversionWarning: A column-vector y was passed when a 1d array was expected. Please change the shape of y to (n_samples, ), for example using ravel().\n",
      "  return f(**kwargs)\n"
     ]
    },
    {
     "name": "stdout",
     "output_type": "stream",
     "text": [
      "0.9543940795559666\n"
     ]
    }
   ],
   "source": [
    "results1=model_selection.cross_val_score(bag_clf, x3, y3, cv=kfold)\n",
    "\n",
    "print(results1.mean())"
   ]
  },
  {
   "cell_type": "code",
   "execution_count": null,
   "id": "2529e83e",
   "metadata": {
    "papermill": {
     "duration": 0.021147,
     "end_time": "2022-01-21T12:06:47.846598",
     "exception": false,
     "start_time": "2022-01-21T12:06:47.825451",
     "status": "completed"
    },
    "tags": []
   },
   "outputs": [],
   "source": []
  }
 ],
 "metadata": {
  "kernelspec": {
   "display_name": "Python 3",
   "language": "python",
   "name": "python3"
  },
  "language_info": {
   "codemirror_mode": {
    "name": "ipython",
    "version": 3
   },
   "file_extension": ".py",
   "mimetype": "text/x-python",
   "name": "python",
   "nbconvert_exporter": "python",
   "pygments_lexer": "ipython3",
   "version": "3.7.12"
  },
  "papermill": {
   "default_parameters": {},
   "duration": 41.446028,
   "end_time": "2022-01-21T12:06:48.578033",
   "environment_variables": {},
   "exception": null,
   "input_path": "__notebook__.ipynb",
   "output_path": "__notebook__.ipynb",
   "parameters": {},
   "start_time": "2022-01-21T12:06:07.132005",
   "version": "2.3.3"
  }
 },
 "nbformat": 4,
 "nbformat_minor": 5
}
